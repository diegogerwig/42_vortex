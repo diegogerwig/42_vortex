{
 "cells": [
  {
   "cell_type": "markdown",
   "metadata": {},
   "source": [
    "## 1. Import & load libraries\n"
   ]
  },
  {
   "cell_type": "code",
   "execution_count": 1,
   "metadata": {},
   "outputs": [
    {
     "name": "stdout",
     "output_type": "stream",
     "text": [
      "Files removed: 4 (38 kB)\n",
      "Note: you may need to restart the kernel to use updated packages.\n",
      "Looking in indexes: https://pypi.python.org/simple\n",
      "Requirement already satisfied: mne in /sgoinfre/students/dgerwig-/miniforge/envs/vortex_env/lib/python3.11/site-packages (1.9.0)\n",
      "Requirement already satisfied: decorator in /sgoinfre/students/dgerwig-/miniforge/envs/vortex_env/lib/python3.11/site-packages (from mne) (5.1.1)\n",
      "Requirement already satisfied: jinja2 in /sgoinfre/students/dgerwig-/miniforge/envs/vortex_env/lib/python3.11/site-packages (from mne) (3.1.5)\n",
      "Requirement already satisfied: lazy-loader>=0.3 in /sgoinfre/students/dgerwig-/miniforge/envs/vortex_env/lib/python3.11/site-packages (from mne) (0.4)\n",
      "Requirement already satisfied: matplotlib>=3.6 in /sgoinfre/students/dgerwig-/miniforge/envs/vortex_env/lib/python3.11/site-packages (from mne) (3.9.4)\n",
      "Requirement already satisfied: numpy<3,>=1.23 in /sgoinfre/students/dgerwig-/miniforge/envs/vortex_env/lib/python3.11/site-packages (from mne) (2.0.2)\n",
      "Requirement already satisfied: packaging in /sgoinfre/students/dgerwig-/miniforge/envs/vortex_env/lib/python3.11/site-packages (from mne) (24.2)\n",
      "Requirement already satisfied: pooch>=1.5 in /sgoinfre/students/dgerwig-/miniforge/envs/vortex_env/lib/python3.11/site-packages (from mne) (1.8.2)\n",
      "Requirement already satisfied: scipy>=1.9 in /sgoinfre/students/dgerwig-/miniforge/envs/vortex_env/lib/python3.11/site-packages (from mne) (1.15.1)\n",
      "Requirement already satisfied: tqdm in /sgoinfre/students/dgerwig-/miniforge/envs/vortex_env/lib/python3.11/site-packages (from mne) (4.67.1)\n",
      "Requirement already satisfied: contourpy>=1.0.1 in /sgoinfre/students/dgerwig-/miniforge/envs/vortex_env/lib/python3.11/site-packages (from matplotlib>=3.6->mne) (1.3.1)\n",
      "Requirement already satisfied: cycler>=0.10 in /sgoinfre/students/dgerwig-/miniforge/envs/vortex_env/lib/python3.11/site-packages (from matplotlib>=3.6->mne) (0.12.1)\n",
      "Requirement already satisfied: fonttools>=4.22.0 in /sgoinfre/students/dgerwig-/miniforge/envs/vortex_env/lib/python3.11/site-packages (from matplotlib>=3.6->mne) (4.56.0)\n",
      "Requirement already satisfied: kiwisolver>=1.3.1 in /sgoinfre/students/dgerwig-/miniforge/envs/vortex_env/lib/python3.11/site-packages (from matplotlib>=3.6->mne) (1.4.8)\n",
      "Requirement already satisfied: pillow>=8 in /sgoinfre/students/dgerwig-/miniforge/envs/vortex_env/lib/python3.11/site-packages (from matplotlib>=3.6->mne) (11.1.0)\n",
      "Requirement already satisfied: pyparsing>=2.3.1 in /sgoinfre/students/dgerwig-/miniforge/envs/vortex_env/lib/python3.11/site-packages (from matplotlib>=3.6->mne) (3.2.1)\n",
      "Requirement already satisfied: python-dateutil>=2.7 in /sgoinfre/students/dgerwig-/miniforge/envs/vortex_env/lib/python3.11/site-packages (from matplotlib>=3.6->mne) (2.9.0.post0)\n",
      "Requirement already satisfied: platformdirs>=2.5.0 in /sgoinfre/students/dgerwig-/miniforge/envs/vortex_env/lib/python3.11/site-packages (from pooch>=1.5->mne) (4.3.6)\n",
      "Requirement already satisfied: requests>=2.19.0 in /sgoinfre/students/dgerwig-/miniforge/envs/vortex_env/lib/python3.11/site-packages (from pooch>=1.5->mne) (2.32.3)\n",
      "Requirement already satisfied: MarkupSafe>=2.0 in /sgoinfre/students/dgerwig-/miniforge/envs/vortex_env/lib/python3.11/site-packages (from jinja2->mne) (3.0.2)\n",
      "Requirement already satisfied: six>=1.5 in /sgoinfre/students/dgerwig-/miniforge/envs/vortex_env/lib/python3.11/site-packages (from python-dateutil>=2.7->matplotlib>=3.6->mne) (1.17.0)\n",
      "Requirement already satisfied: charset-normalizer<4,>=2 in /sgoinfre/students/dgerwig-/miniforge/envs/vortex_env/lib/python3.11/site-packages (from requests>=2.19.0->pooch>=1.5->mne) (3.4.1)\n",
      "Requirement already satisfied: idna<4,>=2.5 in /sgoinfre/students/dgerwig-/miniforge/envs/vortex_env/lib/python3.11/site-packages (from requests>=2.19.0->pooch>=1.5->mne) (3.10)\n",
      "Requirement already satisfied: urllib3<3,>=1.21.1 in /sgoinfre/students/dgerwig-/miniforge/envs/vortex_env/lib/python3.11/site-packages (from requests>=2.19.0->pooch>=1.5->mne) (2.3.0)\n",
      "Requirement already satisfied: certifi>=2017.4.17 in /sgoinfre/students/dgerwig-/miniforge/envs/vortex_env/lib/python3.11/site-packages (from requests>=2.19.0->pooch>=1.5->mne) (2025.1.31)\n",
      "Note: you may need to restart the kernel to use updated packages.\n"
     ]
    }
   ],
   "source": [
    "%pip cache purge\n",
    "\n",
    "%pip install mne\n"
   ]
  },
  {
   "cell_type": "code",
   "execution_count": 2,
   "metadata": {},
   "outputs": [
    {
     "name": "stdout",
     "output_type": "stream",
     "text": [
      "Package            Version\n",
      "------------------ -----------\n",
      "asttokens          3.0.0\n",
      "certifi            2025.1.31\n",
      "charset-normalizer 3.4.1\n",
      "colorama           0.4.4\n",
      "comm               0.2.2\n",
      "contourpy          1.3.1\n",
      "cycler             0.12.1\n",
      "debugpy            1.8.12\n",
      "decorator          5.1.1\n",
      "exceptiongroup     1.2.2\n",
      "executing          2.1.0\n",
      "fonttools          4.56.0\n",
      "idna               3.10\n",
      "importlib_metadata 8.6.1\n",
      "ipykernel          6.29.5\n",
      "ipython            8.32.0\n",
      "jedi               0.19.2\n",
      "Jinja2             3.1.5\n",
      "joblib             1.4.2\n",
      "jupyter_client     8.6.3\n",
      "jupyter_core       5.7.2\n",
      "kiwisolver         1.4.8\n",
      "lazy_loader        0.4\n",
      "MarkupSafe         3.0.2\n",
      "matplotlib         3.9.4\n",
      "matplotlib-inline  0.1.7\n",
      "mne                1.9.0\n",
      "nest_asyncio       1.6.0\n",
      "numpy              2.0.2\n",
      "packaging          24.2\n",
      "pandas             2.2.3\n",
      "parso              0.8.4\n",
      "pexpect            4.9.0\n",
      "pickleshare        0.7.5\n",
      "pillow             11.1.0\n",
      "pip                25.0\n",
      "platformdirs       4.3.6\n",
      "pooch              1.8.2\n",
      "prompt_toolkit     3.0.50\n",
      "psutil             6.1.1\n",
      "ptyprocess         0.7.0\n",
      "pure_eval          0.2.3\n",
      "Pygments           2.19.1\n",
      "pyparsing          3.2.1\n",
      "python-dateutil    2.9.0.post0\n",
      "pytz               2025.1\n",
      "pyzmq              26.2.1\n",
      "requests           2.32.3\n",
      "scikit-learn       1.6.1\n",
      "scipy              1.15.1\n",
      "seaborn            0.13.2\n",
      "setuptools         75.8.0\n",
      "six                1.17.0\n",
      "stack_data         0.6.3\n",
      "threadpoolctl      3.5.0\n",
      "tornado            6.4.2\n",
      "tqdm               4.67.1\n",
      "traitlets          5.14.3\n",
      "typing_extensions  4.12.2\n",
      "tzdata             2025.1\n",
      "urllib3            2.3.0\n",
      "wcwidth            0.2.13\n",
      "wheel              0.45.1\n",
      "zipp               3.21.0\n",
      "Note: you may need to restart the kernel to use updated packages.\n"
     ]
    }
   ],
   "source": [
    "pip list\n"
   ]
  },
  {
   "cell_type": "code",
   "execution_count": 3,
   "metadata": {},
   "outputs": [],
   "source": [
    "import mne\n",
    "from mne.preprocessing import ICA\n",
    "# from mne import Epochs, pick_types, events_from_annotations\n",
    "# from mne.channels import make_standard_montage\n",
    "# from mne.io import concatenate_raws, read_raw_edf\n",
    "# from mne.datasets import eegbci\n",
    "# from mne.decoding import CSP\n",
    "\n",
    "# from sklearn.pipeline import Pipeline\n",
    "# from sklearn.model_selection import cross_val_score, GridSearchCV\n",
    "# from sklearn.linear_model import LogisticRegression\n",
    "# from sklearn.discriminant_analysis import LinearDiscriminantAnalysis\n",
    "# from sklearn.svm import SVC\n",
    "# from sklearn.preprocessing import StandardScaler\n",
    "# from sklearn.decomposition import PCA\n",
    "# from sklearn.base import BaseEstimator, TransformerMixin, ClassifierMixin\n",
    "# from sklearn.utils.validation import check_X_y, check_array, check_is_fitted\n",
    "# from sklearn.exceptions import ConvergenceWarning\n",
    "\n",
    "import numpy as np\n",
    "import pandas as pd\n",
    "\n",
    "import warnings\n",
    "# import time\n",
    "\n",
    "# from tqdm import tqdm\n",
    "\n",
    "# from IPython.display import display, HTML\n",
    "\n",
    "from typing import List\n"
   ]
  },
  {
   "cell_type": "markdown",
   "metadata": {},
   "source": [
    "## 2. Load data"
   ]
  },
  {
   "cell_type": "code",
   "execution_count": null,
   "metadata": {},
   "outputs": [],
   "source": []
  }
 ],
 "metadata": {
  "kernelspec": {
   "display_name": "vortex_env",
   "language": "python",
   "name": "python3"
  },
  "language_info": {
   "codemirror_mode": {
    "name": "ipython",
    "version": 3
   },
   "file_extension": ".py",
   "mimetype": "text/x-python",
   "name": "python",
   "nbconvert_exporter": "python",
   "pygments_lexer": "ipython3",
   "version": "3.11.11"
  }
 },
 "nbformat": 4,
 "nbformat_minor": 2
}
